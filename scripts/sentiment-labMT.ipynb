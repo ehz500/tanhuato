{
 "cells": [
  {
   "cell_type": "code",
   "execution_count": 1,
   "metadata": {
    "collapsed": false
   },
   "outputs": [
    {
     "name": "stderr",
     "output_type": "stream",
     "text": [
      "Vendor:  Continuum Analytics, Inc.\n",
      "Package: mkl\n",
      "Message: trial mode expires in 30 days\n"
     ]
    }
   ],
   "source": [
    "import codecs\n",
    "import labMTsimple.storyLab\n",
    "import numpy as np\n",
    "import matplotlib.pyplot as plt\n",
    "\n",
    "%matplotlib inline"
   ]
  },
  {
   "cell_type": "code",
   "execution_count": 2,
   "metadata": {
    "collapsed": true
   },
   "outputs": [],
   "source": [
    "f = codecs.open(\"../data/clean_bot_tweets.txt\", \"r\")\n",
    "bots = f.read()\n",
    "f.close()"
   ]
  },
  {
   "cell_type": "code",
   "execution_count": 3,
   "metadata": {
    "collapsed": true
   },
   "outputs": [],
   "source": [
    "f = codecs.open(\"../data/clean_human_tweets.txt\", \"r\")\n",
    "humans = f.read()\n",
    "f.close()"
   ]
  },
  {
   "cell_type": "markdown",
   "metadata": {},
   "source": [
    "## Sentiment of tweets"
   ]
  },
  {
   "cell_type": "code",
   "execution_count": 4,
   "metadata": {
    "collapsed": false
   },
   "outputs": [],
   "source": [
    "lang = \"spanish\"\n",
    "widths = np.linspace(0, 3, num = 100)\n",
    "bots_scores = []\n",
    "humans_scores = []\n",
    "for width in widths:\n",
    "    labMT,labMTvector,labMTwordList = labMTsimple.storyLab.emotionFileReader(stopval=width,lang=lang,returnVector=True)\n",
    "    \n",
    "    bot_sent, _ = labMTsimple.storyLab.emotion(bots,labMT,shift=True,happsList=labMTvector)\n",
    "    bots_scores.append(bot_sent)\n",
    "    human_sent,_ = labMTsimple.storyLab.emotion(humans,labMT,shift=True,happsList=labMTvector)\n",
    "    humans_scores.append(human_sent)"
   ]
  },
  {
   "cell_type": "code",
   "execution_count": 5,
   "metadata": {
    "collapsed": false
   },
   "outputs": [
    {
     "data": {
      "text/plain": [
       "[<matplotlib.lines.Line2D at 0x1158b8490>,\n",
       " <matplotlib.lines.Line2D at 0x1158b8690>]"
      ]
     },
     "execution_count": 5,
     "metadata": {},
     "output_type": "execute_result"
    },
    {
     "data": {
      "image/png": "[encoded data removed]",
      "text/plain": [
       "<matplotlib.figure.Figure at 0x1155c2790>"
      ]
     },
     "metadata": {},
     "output_type": "display_data"
    }
   ],
   "source": [
    "plt.plot(widths, humans_scores, 'r', widths, bots_scores, 'b')"
   ]
  },
  {
   "cell_type": "markdown",
   "metadata": {},
   "source": [
    "## Sentiment of tweets with retweets removed"
   ]
  },
  {
   "cell_type": "code",
   "execution_count": 6,
   "metadata": {
    "collapsed": false
   },
   "outputs": [],
   "source": [
    "def get_tweets_without_rt(input_path):\n",
    "    docs = []\n",
    "    f = open(input_path, 'rU')\n",
    "    for line in f:\n",
    "        tweet = line.rstrip()\n",
    "        if tweet[:2] != \"RT\":\n",
    "            docs.append(tweet)       \n",
    "    f.close()    \n",
    "    return docs\n",
    "bot_tweets = get_tweets_without_rt(\"../data/clean_bot_tweets.txt\")\n",
    "human_tweets = get_tweets_without_rt(\"../data/clean_human_tweets.txt\")"
   ]
  },
  {
   "cell_type": "code",
   "execution_count": 7,
   "metadata": {
    "collapsed": false
   },
   "outputs": [],
   "source": [
    "bots_scores = []\n",
    "humans_scores = []\n",
    "for width in widths:\n",
    "    labMT,labMTvector,labMTwordList = labMTsimple.storyLab.emotionFileReader(stopval=width,lang=lang,returnVector=True)\n",
    "    \n",
    "\n",
    "    bot_sent, _ = labMTsimple.storyLab.emotion(\" \".join(bot_tweets),labMT,shift=True,happsList=labMTvector)\n",
    "    bots_scores.append(bot_sent)\n",
    "    human_sent, _= labMTsimple.storyLab.emotion(\" \".join(human_tweets),labMT,shift=True,happsList=labMTvector)\n",
    "    humans_scores.append(human_sent)"
   ]
  },
  {
   "cell_type": "code",
   "execution_count": 8,
   "metadata": {
    "collapsed": false
   },
   "outputs": [
    {
     "data": {
      "text/plain": [
       "[<matplotlib.lines.Line2D at 0x1158e6c10>,\n",
       " <matplotlib.lines.Line2D at 0x1158e6e10>]"
      ]
     },
     "execution_count": 8,
     "metadata": {},
     "output_type": "execute_result"
    },
    {
     "data": {
      "image/png": "[encoded data removed]",
      "text/plain": [
       "<matplotlib.figure.Figure at 0x116a8a250>"
      ]
     },
     "metadata": {},
     "output_type": "display_data"
    }
   ],
   "source": [
    "plt.plot(widths, humans_scores, 'r', widths, bots_scores, 'b')"
   ]
  },
  {
   "cell_type": "code",
   "execution_count": null,
   "metadata": {
    "collapsed": true
   },
   "outputs": [],
   "source": []
  }
 ],
 "metadata": {
  "kernelspec": {
   "display_name": "Python 2",
   "language": "python",
   "name": "python2"
  },
  "language_info": {
   "codemirror_mode": {
    "name": "ipython",
    "version": 2
   },
   "file_extension": ".py",
   "mimetype": "text/x-python",
   "name": "python",
   "nbconvert_exporter": "python",
   "pygments_lexer": "ipython2",
   "version": "2.7.12"
  }
 },
 "nbformat": 4,
 "nbformat_minor": 0
}
